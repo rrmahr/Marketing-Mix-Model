{
 "cells": [
  {
   "cell_type": "markdown",
   "metadata": {},
   "source": [
    "# Marketing Mix Modeling: Capstone 3 Project<br>\n",
    "\n",
    "# Preprocessing & Generating Baseline Model"
   ]
  },
  {
   "cell_type": "markdown",
   "metadata": {},
   "source": [
    "## Table of Contents\n",
    "* [A: Load Files](#a)\n",
    "* [B: Multicollinearity](#b)\n",
    "* [C: Train-Test Split](#c)\n",
    "* [D: Scaling IVs](#d)\n",
    "* [E: Baseline Models](#e)\n",
    "* [F: Next Steps](#f)"
   ]
  },
  {
   "cell_type": "markdown",
   "metadata": {},
   "source": [
    "## A: Load Files <a class=\"anchor\" id=\"a\"></a>"
   ]
  },
  {
   "cell_type": "code",
   "execution_count": 1,
   "metadata": {
    "scrolled": true
   },
   "outputs": [],
   "source": [
    "#Import libraries\n",
    "import pandas as pd\n",
    "import numpy as np\n",
    "import pickle\n",
    "import matplotlib.pyplot as plt\n",
    "import seaborn as sns\n",
    "import matplotlib.patches as mpatches\n",
    "from statsmodels.stats import outliers_influence\n",
    "from sklearn.model_selection import train_test_split, cross_validate\n",
    "from sklearn.preprocessing import StandardScaler, MinMaxScaler\n",
    "from sklearn.linear_model import LinearRegression\n",
    "from sklearn.metrics import r2_score, mean_squared_error, mean_absolute_error\n",
    "\n",
    "import qgrid\n",
    "def view(df_test):\n",
    "    return qgrid.show_grid(df_test, grid_options={'forceFitColumns': False, 'defaultColumnWidth': 100})"
   ]
  },
  {
   "cell_type": "code",
   "execution_count": 2,
   "metadata": {},
   "outputs": [],
   "source": [
    "#Open files\n",
    "\n",
    "sales_media_1 = pd.read_pickle('../b_Data/sales_media_1.pkl')\n",
    "sales_media_2 = pd.read_pickle('../b_Data/sales_media_2.pkl')"
   ]
  },
  {
   "cell_type": "code",
   "execution_count": 3,
   "metadata": {},
   "outputs": [
    {
     "name": "stdout",
     "output_type": "stream",
     "text": [
      "(358, 18)\n"
     ]
    },
    {
     "data": {
      "text/html": [
       "<div>\n",
       "<style scoped>\n",
       "    .dataframe tbody tr th:only-of-type {\n",
       "        vertical-align: middle;\n",
       "    }\n",
       "\n",
       "    .dataframe tbody tr th {\n",
       "        vertical-align: top;\n",
       "    }\n",
       "\n",
       "    .dataframe thead th {\n",
       "        text-align: right;\n",
       "    }\n",
       "</style>\n",
       "<table border=\"1\" class=\"dataframe\">\n",
       "  <thead>\n",
       "    <tr style=\"text-align: right;\">\n",
       "      <th></th>\n",
       "      <th>units</th>\n",
       "      <th>mrp_USD</th>\n",
       "      <th>discount_USD</th>\n",
       "      <th>promotion</th>\n",
       "      <th>prod_cam</th>\n",
       "      <th>prod_cam_assry</th>\n",
       "      <th>prod_small_ent</th>\n",
       "      <th>prod_gaming_hw</th>\n",
       "      <th>Total_Investment_USD</th>\n",
       "      <th>TV_USD</th>\n",
       "      <th>Digital_USD</th>\n",
       "      <th>Sponsorship_USD</th>\n",
       "      <th>Content_Marketing_USD</th>\n",
       "      <th>Online_Marketing_USD</th>\n",
       "      <th>Affiliates_USD</th>\n",
       "      <th>SEM_USD</th>\n",
       "      <th>Radio_USD</th>\n",
       "      <th>Other_USD</th>\n",
       "    </tr>\n",
       "  </thead>\n",
       "  <tbody>\n",
       "    <tr>\n",
       "      <th>0</th>\n",
       "      <td>96.000000</td>\n",
       "      <td>5701.436667</td>\n",
       "      <td>2323.233333</td>\n",
       "      <td>0.0</td>\n",
       "      <td>3.000000</td>\n",
       "      <td>10.333333</td>\n",
       "      <td>61.666667</td>\n",
       "      <td>10.666667</td>\n",
       "      <td>9954.642857</td>\n",
       "      <td>116.428571</td>\n",
       "      <td>1455.357143</td>\n",
       "      <td>4307.857143</td>\n",
       "      <td>0.0</td>\n",
       "      <td>756.785714</td>\n",
       "      <td>291.071429</td>\n",
       "      <td>2910.714286</td>\n",
       "      <td>0.0</td>\n",
       "      <td>0.0</td>\n",
       "    </tr>\n",
       "    <tr>\n",
       "      <th>1</th>\n",
       "      <td>86.666667</td>\n",
       "      <td>5461.070000</td>\n",
       "      <td>2183.356667</td>\n",
       "      <td>0.0</td>\n",
       "      <td>3.000000</td>\n",
       "      <td>10.000000</td>\n",
       "      <td>55.333333</td>\n",
       "      <td>9.666667</td>\n",
       "      <td>9954.642857</td>\n",
       "      <td>116.428571</td>\n",
       "      <td>1455.357143</td>\n",
       "      <td>4307.857143</td>\n",
       "      <td>0.0</td>\n",
       "      <td>756.785714</td>\n",
       "      <td>291.071429</td>\n",
       "      <td>2910.714286</td>\n",
       "      <td>0.0</td>\n",
       "      <td>0.0</td>\n",
       "    </tr>\n",
       "    <tr>\n",
       "      <th>2</th>\n",
       "      <td>16.000000</td>\n",
       "      <td>1057.860000</td>\n",
       "      <td>319.670000</td>\n",
       "      <td>0.0</td>\n",
       "      <td>0.666667</td>\n",
       "      <td>0.333333</td>\n",
       "      <td>10.333333</td>\n",
       "      <td>3.333333</td>\n",
       "      <td>9954.642857</td>\n",
       "      <td>116.428571</td>\n",
       "      <td>1455.357143</td>\n",
       "      <td>4307.857143</td>\n",
       "      <td>0.0</td>\n",
       "      <td>756.785714</td>\n",
       "      <td>291.071429</td>\n",
       "      <td>2910.714286</td>\n",
       "      <td>0.0</td>\n",
       "      <td>0.0</td>\n",
       "    </tr>\n",
       "    <tr>\n",
       "      <th>3</th>\n",
       "      <td>1541.333333</td>\n",
       "      <td>74333.196667</td>\n",
       "      <td>30680.616667</td>\n",
       "      <td>0.0</td>\n",
       "      <td>53.333333</td>\n",
       "      <td>173.666667</td>\n",
       "      <td>899.666667</td>\n",
       "      <td>325.333333</td>\n",
       "      <td>9954.642857</td>\n",
       "      <td>116.428571</td>\n",
       "      <td>1455.357143</td>\n",
       "      <td>4307.857143</td>\n",
       "      <td>0.0</td>\n",
       "      <td>756.785714</td>\n",
       "      <td>291.071429</td>\n",
       "      <td>2910.714286</td>\n",
       "      <td>0.0</td>\n",
       "      <td>0.0</td>\n",
       "    </tr>\n",
       "    <tr>\n",
       "      <th>4</th>\n",
       "      <td>3238.666667</td>\n",
       "      <td>149918.863333</td>\n",
       "      <td>61793.006667</td>\n",
       "      <td>0.0</td>\n",
       "      <td>106.000000</td>\n",
       "      <td>387.333333</td>\n",
       "      <td>1999.666667</td>\n",
       "      <td>543.000000</td>\n",
       "      <td>9954.642857</td>\n",
       "      <td>116.428571</td>\n",
       "      <td>1455.357143</td>\n",
       "      <td>4307.857143</td>\n",
       "      <td>0.0</td>\n",
       "      <td>756.785714</td>\n",
       "      <td>291.071429</td>\n",
       "      <td>2910.714286</td>\n",
       "      <td>0.0</td>\n",
       "      <td>0.0</td>\n",
       "    </tr>\n",
       "  </tbody>\n",
       "</table>\n",
       "</div>"
      ],
      "text/plain": [
       "         units        mrp_USD  discount_USD  promotion    prod_cam  \\\n",
       "0    96.000000    5701.436667   2323.233333        0.0    3.000000   \n",
       "1    86.666667    5461.070000   2183.356667        0.0    3.000000   \n",
       "2    16.000000    1057.860000    319.670000        0.0    0.666667   \n",
       "3  1541.333333   74333.196667  30680.616667        0.0   53.333333   \n",
       "4  3238.666667  149918.863333  61793.006667        0.0  106.000000   \n",
       "\n",
       "   prod_cam_assry  prod_small_ent  prod_gaming_hw  Total_Investment_USD  \\\n",
       "0       10.333333       61.666667       10.666667           9954.642857   \n",
       "1       10.000000       55.333333        9.666667           9954.642857   \n",
       "2        0.333333       10.333333        3.333333           9954.642857   \n",
       "3      173.666667      899.666667      325.333333           9954.642857   \n",
       "4      387.333333     1999.666667      543.000000           9954.642857   \n",
       "\n",
       "       TV_USD  Digital_USD  Sponsorship_USD  Content_Marketing_USD  \\\n",
       "0  116.428571  1455.357143      4307.857143                    0.0   \n",
       "1  116.428571  1455.357143      4307.857143                    0.0   \n",
       "2  116.428571  1455.357143      4307.857143                    0.0   \n",
       "3  116.428571  1455.357143      4307.857143                    0.0   \n",
       "4  116.428571  1455.357143      4307.857143                    0.0   \n",
       "\n",
       "   Online_Marketing_USD  Affiliates_USD      SEM_USD  Radio_USD  Other_USD  \n",
       "0            756.785714      291.071429  2910.714286        0.0        0.0  \n",
       "1            756.785714      291.071429  2910.714286        0.0        0.0  \n",
       "2            756.785714      291.071429  2910.714286        0.0        0.0  \n",
       "3            756.785714      291.071429  2910.714286        0.0        0.0  \n",
       "4            756.785714      291.071429  2910.714286        0.0        0.0  "
      ]
     },
     "execution_count": 3,
     "metadata": {},
     "output_type": "execute_result"
    }
   ],
   "source": [
    "#Inspect files to check import\n",
    "print(sales_media_1.shape)\n",
    "sales_media_1.head()"
   ]
  },
  {
   "cell_type": "code",
   "execution_count": 4,
   "metadata": {
    "scrolled": true
   },
   "outputs": [
    {
     "name": "stdout",
     "output_type": "stream",
     "text": [
      "<class 'pandas.core.frame.DataFrame'>\n",
      "Int64Index: 358 entries, 0 to 357\n",
      "Data columns (total 18 columns):\n",
      " #   Column                 Non-Null Count  Dtype  \n",
      "---  ------                 --------------  -----  \n",
      " 0   units                  358 non-null    float64\n",
      " 1   mrp_USD                358 non-null    float64\n",
      " 2   discount_USD           358 non-null    float64\n",
      " 3   promotion              358 non-null    float64\n",
      " 4   prod_cam               358 non-null    float64\n",
      " 5   prod_cam_assry         358 non-null    float64\n",
      " 6   prod_small_ent         358 non-null    float64\n",
      " 7   prod_gaming_hw         358 non-null    float64\n",
      " 8   Total_Investment_USD   358 non-null    float64\n",
      " 9   TV_USD                 358 non-null    float64\n",
      " 10  Digital_USD            358 non-null    float64\n",
      " 11  Sponsorship_USD        358 non-null    float64\n",
      " 12  Content_Marketing_USD  358 non-null    float64\n",
      " 13  Online_Marketing_USD   358 non-null    float64\n",
      " 14  Affiliates_USD         358 non-null    float64\n",
      " 15  SEM_USD                358 non-null    float64\n",
      " 16  Radio_USD              358 non-null    float64\n",
      " 17  Other_USD              358 non-null    float64\n",
      "dtypes: float64(18)\n",
      "memory usage: 53.1 KB\n"
     ]
    }
   ],
   "source": [
    "sales_media_1.info()"
   ]
  },
  {
   "cell_type": "code",
   "execution_count": 5,
   "metadata": {
    "scrolled": false
   },
   "outputs": [
    {
     "name": "stdout",
     "output_type": "stream",
     "text": [
      "(358, 18)\n"
     ]
    },
    {
     "data": {
      "text/html": [
       "<div>\n",
       "<style scoped>\n",
       "    .dataframe tbody tr th:only-of-type {\n",
       "        vertical-align: middle;\n",
       "    }\n",
       "\n",
       "    .dataframe tbody tr th {\n",
       "        vertical-align: top;\n",
       "    }\n",
       "\n",
       "    .dataframe thead th {\n",
       "        text-align: right;\n",
       "    }\n",
       "</style>\n",
       "<table border=\"1\" class=\"dataframe\">\n",
       "  <thead>\n",
       "    <tr style=\"text-align: right;\">\n",
       "      <th></th>\n",
       "      <th>units</th>\n",
       "      <th>mrp_USD</th>\n",
       "      <th>discount_USD</th>\n",
       "      <th>promotion</th>\n",
       "      <th>prod_cam</th>\n",
       "      <th>prod_cam_assry</th>\n",
       "      <th>prod_small_ent</th>\n",
       "      <th>prod_gaming_hw</th>\n",
       "      <th>Total_Investment_USD</th>\n",
       "      <th>TV_USD</th>\n",
       "      <th>Digital_USD</th>\n",
       "      <th>Sponsorship_USD</th>\n",
       "      <th>Content_Marketing_USD</th>\n",
       "      <th>Online_Marketing_USD</th>\n",
       "      <th>Affiliates_USD</th>\n",
       "      <th>SEM_USD</th>\n",
       "      <th>Radio_USD</th>\n",
       "      <th>Other_USD</th>\n",
       "    </tr>\n",
       "  </thead>\n",
       "  <tbody>\n",
       "    <tr>\n",
       "      <th>0</th>\n",
       "      <td>96.000000</td>\n",
       "      <td>5701.436667</td>\n",
       "      <td>2323.233333</td>\n",
       "      <td>0.0</td>\n",
       "      <td>3.000000</td>\n",
       "      <td>10.333333</td>\n",
       "      <td>61.666667</td>\n",
       "      <td>10.666667</td>\n",
       "      <td>14390</td>\n",
       "      <td>154</td>\n",
       "      <td>580</td>\n",
       "      <td>6166</td>\n",
       "      <td>0</td>\n",
       "      <td>240</td>\n",
       "      <td>394</td>\n",
       "      <td>6733</td>\n",
       "      <td>0</td>\n",
       "      <td>0</td>\n",
       "    </tr>\n",
       "    <tr>\n",
       "      <th>27</th>\n",
       "      <td>3100.333333</td>\n",
       "      <td>199201.566667</td>\n",
       "      <td>99381.633333</td>\n",
       "      <td>0.0</td>\n",
       "      <td>122.333333</td>\n",
       "      <td>426.000000</td>\n",
       "      <td>1947.333333</td>\n",
       "      <td>403.666667</td>\n",
       "      <td>4346</td>\n",
       "      <td>120</td>\n",
       "      <td>1055</td>\n",
       "      <td>6591</td>\n",
       "      <td>0</td>\n",
       "      <td>457</td>\n",
       "      <td>166</td>\n",
       "      <td>2765</td>\n",
       "      <td>0</td>\n",
       "      <td>0</td>\n",
       "    </tr>\n",
       "    <tr>\n",
       "      <th>26</th>\n",
       "      <td>3131.333333</td>\n",
       "      <td>204707.683333</td>\n",
       "      <td>100827.803333</td>\n",
       "      <td>0.0</td>\n",
       "      <td>125.000000</td>\n",
       "      <td>438.333333</td>\n",
       "      <td>1966.333333</td>\n",
       "      <td>405.000000</td>\n",
       "      <td>99</td>\n",
       "      <td>18</td>\n",
       "      <td>1390</td>\n",
       "      <td>1274</td>\n",
       "      <td>0</td>\n",
       "      <td>63</td>\n",
       "      <td>299</td>\n",
       "      <td>757</td>\n",
       "      <td>0</td>\n",
       "      <td>0</td>\n",
       "    </tr>\n",
       "    <tr>\n",
       "      <th>25</th>\n",
       "      <td>3047.666667</td>\n",
       "      <td>192926.280000</td>\n",
       "      <td>88573.290000</td>\n",
       "      <td>0.0</td>\n",
       "      <td>132.333333</td>\n",
       "      <td>432.000000</td>\n",
       "      <td>1910.333333</td>\n",
       "      <td>379.000000</td>\n",
       "      <td>10815</td>\n",
       "      <td>54</td>\n",
       "      <td>237</td>\n",
       "      <td>21137</td>\n",
       "      <td>0</td>\n",
       "      <td>236</td>\n",
       "      <td>484</td>\n",
       "      <td>384</td>\n",
       "      <td>0</td>\n",
       "      <td>0</td>\n",
       "    </tr>\n",
       "    <tr>\n",
       "      <th>24</th>\n",
       "      <td>3155.333333</td>\n",
       "      <td>179788.493333</td>\n",
       "      <td>74405.973333</td>\n",
       "      <td>0.0</td>\n",
       "      <td>125.333333</td>\n",
       "      <td>438.666667</td>\n",
       "      <td>1990.000000</td>\n",
       "      <td>391.666667</td>\n",
       "      <td>14848</td>\n",
       "      <td>7</td>\n",
       "      <td>1807</td>\n",
       "      <td>948</td>\n",
       "      <td>0</td>\n",
       "      <td>3</td>\n",
       "      <td>393</td>\n",
       "      <td>1655</td>\n",
       "      <td>0</td>\n",
       "      <td>0</td>\n",
       "    </tr>\n",
       "  </tbody>\n",
       "</table>\n",
       "</div>"
      ],
      "text/plain": [
       "          units        mrp_USD   discount_USD  promotion    prod_cam  \\\n",
       "0     96.000000    5701.436667    2323.233333        0.0    3.000000   \n",
       "27  3100.333333  199201.566667   99381.633333        0.0  122.333333   \n",
       "26  3131.333333  204707.683333  100827.803333        0.0  125.000000   \n",
       "25  3047.666667  192926.280000   88573.290000        0.0  132.333333   \n",
       "24  3155.333333  179788.493333   74405.973333        0.0  125.333333   \n",
       "\n",
       "    prod_cam_assry  prod_small_ent  prod_gaming_hw  Total_Investment_USD  \\\n",
       "0        10.333333       61.666667       10.666667                 14390   \n",
       "27      426.000000     1947.333333      403.666667                  4346   \n",
       "26      438.333333     1966.333333      405.000000                    99   \n",
       "25      432.000000     1910.333333      379.000000                 10815   \n",
       "24      438.666667     1990.000000      391.666667                 14848   \n",
       "\n",
       "    TV_USD  Digital_USD  Sponsorship_USD  Content_Marketing_USD  \\\n",
       "0      154          580             6166                      0   \n",
       "27     120         1055             6591                      0   \n",
       "26      18         1390             1274                      0   \n",
       "25      54          237            21137                      0   \n",
       "24       7         1807              948                      0   \n",
       "\n",
       "    Online_Marketing_USD  Affiliates_USD  SEM_USD  Radio_USD  Other_USD  \n",
       "0                    240             394     6733          0          0  \n",
       "27                   457             166     2765          0          0  \n",
       "26                    63             299      757          0          0  \n",
       "25                   236             484      384          0          0  \n",
       "24                     3             393     1655          0          0  "
      ]
     },
     "execution_count": 5,
     "metadata": {},
     "output_type": "execute_result"
    }
   ],
   "source": [
    "print(sales_media_2.shape)\n",
    "sales_media_2.head()"
   ]
  },
  {
   "cell_type": "code",
   "execution_count": 6,
   "metadata": {},
   "outputs": [],
   "source": [
    "#Sort sales media by index\n",
    "sales_media_2 = sales_media_2.sort_index()"
   ]
  },
  {
   "cell_type": "code",
   "execution_count": 7,
   "metadata": {
    "scrolled": false
   },
   "outputs": [
    {
     "name": "stdout",
     "output_type": "stream",
     "text": [
      "<class 'pandas.core.frame.DataFrame'>\n",
      "Int64Index: 358 entries, 0 to 357\n",
      "Data columns (total 18 columns):\n",
      " #   Column                 Non-Null Count  Dtype  \n",
      "---  ------                 --------------  -----  \n",
      " 0   units                  358 non-null    float64\n",
      " 1   mrp_USD                358 non-null    float64\n",
      " 2   discount_USD           358 non-null    float64\n",
      " 3   promotion              358 non-null    float64\n",
      " 4   prod_cam               358 non-null    float64\n",
      " 5   prod_cam_assry         358 non-null    float64\n",
      " 6   prod_small_ent         358 non-null    float64\n",
      " 7   prod_gaming_hw         358 non-null    float64\n",
      " 8   Total_Investment_USD   358 non-null    int64  \n",
      " 9   TV_USD                 358 non-null    int64  \n",
      " 10  Digital_USD            358 non-null    int64  \n",
      " 11  Sponsorship_USD        358 non-null    int64  \n",
      " 12  Content_Marketing_USD  358 non-null    int64  \n",
      " 13  Online_Marketing_USD   358 non-null    int64  \n",
      " 14  Affiliates_USD         358 non-null    int64  \n",
      " 15  SEM_USD                358 non-null    int64  \n",
      " 16  Radio_USD              358 non-null    int64  \n",
      " 17  Other_USD              358 non-null    int64  \n",
      "dtypes: float64(8), int64(10)\n",
      "memory usage: 53.1 KB\n"
     ]
    }
   ],
   "source": [
    "sales_media_2.info()"
   ]
  },
  {
   "cell_type": "code",
   "execution_count": 8,
   "metadata": {},
   "outputs": [
    {
     "name": "stdout",
     "output_type": "stream",
     "text": [
      "<class 'pandas.core.frame.DataFrame'>\n",
      "Int64Index: 358 entries, 0 to 357\n",
      "Data columns (total 18 columns):\n",
      " #   Column                 Non-Null Count  Dtype  \n",
      "---  ------                 --------------  -----  \n",
      " 0   units                  358 non-null    float64\n",
      " 1   mrp_USD                358 non-null    float64\n",
      " 2   discount_USD           358 non-null    float64\n",
      " 3   promotion              358 non-null    float64\n",
      " 4   prod_cam               358 non-null    float64\n",
      " 5   prod_cam_assry         358 non-null    float64\n",
      " 6   prod_small_ent         358 non-null    float64\n",
      " 7   prod_gaming_hw         358 non-null    float64\n",
      " 8   Total_Investment_USD   358 non-null    float64\n",
      " 9   TV_USD                 358 non-null    float64\n",
      " 10  Digital_USD            358 non-null    float64\n",
      " 11  Sponsorship_USD        358 non-null    float64\n",
      " 12  Content_Marketing_USD  358 non-null    float64\n",
      " 13  Online_Marketing_USD   358 non-null    float64\n",
      " 14  Affiliates_USD         358 non-null    float64\n",
      " 15  SEM_USD                358 non-null    float64\n",
      " 16  Radio_USD              358 non-null    float64\n",
      " 17  Other_USD              358 non-null    float64\n",
      "dtypes: float64(18)\n",
      "memory usage: 53.1 KB\n"
     ]
    }
   ],
   "source": [
    "#Convert media investment variables to float\n",
    "media_cols = ['Total_Investment_USD','TV_USD', 'Digital_USD','Sponsorship_USD','Content_Marketing_USD', 'Online_Marketing_USD','Affiliates_USD', 'SEM_USD', 'Radio_USD','Other_USD']\n",
    "\n",
    "for col in media_cols:\n",
    "    sales_media_2[col] = sales_media_2[col].astype(float)\n",
    "    \n",
    "sales_media_2.info()"
   ]
  },
  {
   "cell_type": "markdown",
   "metadata": {},
   "source": [
    "## B: Multicollinearity <a class=\"anchor\" id=\"b\"></a>\n",
    "Test for multicollinearity using Variation Inflation Factor (VIF)\n",
    "* VIF = 1 → No correlation\n",
    "* VIF = 1 to 5 → Moderate correlation\n",
    "* VIF >10 → High correlation <br>\n",
    "[Code adapted from Toward Data Science Article by Sushmitha Pulagam]('https://towardsdatascience.com/how-to-detect-and-deal-with-multicollinearity-9e02b18695f1')"
   ]
  },
  {
   "cell_type": "markdown",
   "metadata": {},
   "source": [
    "#### Option 1"
   ]
  },
  {
   "cell_type": "code",
   "execution_count": 9,
   "metadata": {
    "scrolled": false
   },
   "outputs": [
    {
     "data": {
      "text/html": [
       "<div>\n",
       "<style scoped>\n",
       "    .dataframe tbody tr th:only-of-type {\n",
       "        vertical-align: middle;\n",
       "    }\n",
       "\n",
       "    .dataframe tbody tr th {\n",
       "        vertical-align: top;\n",
       "    }\n",
       "\n",
       "    .dataframe thead th {\n",
       "        text-align: right;\n",
       "    }\n",
       "</style>\n",
       "<table border=\"1\" class=\"dataframe\">\n",
       "  <thead>\n",
       "    <tr style=\"text-align: right;\">\n",
       "      <th></th>\n",
       "      <th>mrp_USD</th>\n",
       "      <th>discount_USD</th>\n",
       "      <th>promotion</th>\n",
       "      <th>Total_Investment_USD</th>\n",
       "      <th>TV_USD</th>\n",
       "      <th>Digital_USD</th>\n",
       "      <th>Sponsorship_USD</th>\n",
       "      <th>Content_Marketing_USD</th>\n",
       "      <th>Online_Marketing_USD</th>\n",
       "      <th>Affiliates_USD</th>\n",
       "      <th>SEM_USD</th>\n",
       "      <th>Radio_USD</th>\n",
       "      <th>Other_USD</th>\n",
       "    </tr>\n",
       "  </thead>\n",
       "  <tbody>\n",
       "    <tr>\n",
       "      <th>0</th>\n",
       "      <td>5701.436667</td>\n",
       "      <td>2323.233333</td>\n",
       "      <td>0.0</td>\n",
       "      <td>9954.642857</td>\n",
       "      <td>116.428571</td>\n",
       "      <td>1455.357143</td>\n",
       "      <td>4307.857143</td>\n",
       "      <td>0.0</td>\n",
       "      <td>756.785714</td>\n",
       "      <td>291.071429</td>\n",
       "      <td>2910.714286</td>\n",
       "      <td>0.0</td>\n",
       "      <td>0.0</td>\n",
       "    </tr>\n",
       "    <tr>\n",
       "      <th>1</th>\n",
       "      <td>5461.070000</td>\n",
       "      <td>2183.356667</td>\n",
       "      <td>0.0</td>\n",
       "      <td>9954.642857</td>\n",
       "      <td>116.428571</td>\n",
       "      <td>1455.357143</td>\n",
       "      <td>4307.857143</td>\n",
       "      <td>0.0</td>\n",
       "      <td>756.785714</td>\n",
       "      <td>291.071429</td>\n",
       "      <td>2910.714286</td>\n",
       "      <td>0.0</td>\n",
       "      <td>0.0</td>\n",
       "    </tr>\n",
       "    <tr>\n",
       "      <th>2</th>\n",
       "      <td>1057.860000</td>\n",
       "      <td>319.670000</td>\n",
       "      <td>0.0</td>\n",
       "      <td>9954.642857</td>\n",
       "      <td>116.428571</td>\n",
       "      <td>1455.357143</td>\n",
       "      <td>4307.857143</td>\n",
       "      <td>0.0</td>\n",
       "      <td>756.785714</td>\n",
       "      <td>291.071429</td>\n",
       "      <td>2910.714286</td>\n",
       "      <td>0.0</td>\n",
       "      <td>0.0</td>\n",
       "    </tr>\n",
       "    <tr>\n",
       "      <th>3</th>\n",
       "      <td>74333.196667</td>\n",
       "      <td>30680.616667</td>\n",
       "      <td>0.0</td>\n",
       "      <td>9954.642857</td>\n",
       "      <td>116.428571</td>\n",
       "      <td>1455.357143</td>\n",
       "      <td>4307.857143</td>\n",
       "      <td>0.0</td>\n",
       "      <td>756.785714</td>\n",
       "      <td>291.071429</td>\n",
       "      <td>2910.714286</td>\n",
       "      <td>0.0</td>\n",
       "      <td>0.0</td>\n",
       "    </tr>\n",
       "    <tr>\n",
       "      <th>4</th>\n",
       "      <td>149918.863333</td>\n",
       "      <td>61793.006667</td>\n",
       "      <td>0.0</td>\n",
       "      <td>9954.642857</td>\n",
       "      <td>116.428571</td>\n",
       "      <td>1455.357143</td>\n",
       "      <td>4307.857143</td>\n",
       "      <td>0.0</td>\n",
       "      <td>756.785714</td>\n",
       "      <td>291.071429</td>\n",
       "      <td>2910.714286</td>\n",
       "      <td>0.0</td>\n",
       "      <td>0.0</td>\n",
       "    </tr>\n",
       "  </tbody>\n",
       "</table>\n",
       "</div>"
      ],
      "text/plain": [
       "         mrp_USD  discount_USD  promotion  Total_Investment_USD      TV_USD  \\\n",
       "0    5701.436667   2323.233333        0.0           9954.642857  116.428571   \n",
       "1    5461.070000   2183.356667        0.0           9954.642857  116.428571   \n",
       "2    1057.860000    319.670000        0.0           9954.642857  116.428571   \n",
       "3   74333.196667  30680.616667        0.0           9954.642857  116.428571   \n",
       "4  149918.863333  61793.006667        0.0           9954.642857  116.428571   \n",
       "\n",
       "   Digital_USD  Sponsorship_USD  Content_Marketing_USD  Online_Marketing_USD  \\\n",
       "0  1455.357143      4307.857143                    0.0            756.785714   \n",
       "1  1455.357143      4307.857143                    0.0            756.785714   \n",
       "2  1455.357143      4307.857143                    0.0            756.785714   \n",
       "3  1455.357143      4307.857143                    0.0            756.785714   \n",
       "4  1455.357143      4307.857143                    0.0            756.785714   \n",
       "\n",
       "   Affiliates_USD      SEM_USD  Radio_USD  Other_USD  \n",
       "0      291.071429  2910.714286        0.0        0.0  \n",
       "1      291.071429  2910.714286        0.0        0.0  \n",
       "2      291.071429  2910.714286        0.0        0.0  \n",
       "3      291.071429  2910.714286        0.0        0.0  \n",
       "4      291.071429  2910.714286        0.0        0.0  "
      ]
     },
     "execution_count": 9,
     "metadata": {},
     "output_type": "execute_result"
    }
   ],
   "source": [
    "#Get features to inspect\n",
    "features = sales_media_1.drop(columns=['units','prod_cam','prod_cam_assry',\n",
    "                                       'prod_small_ent','prod_gaming_hw']).columns.to_list()\n",
    "\n",
    "#filter df to independent variables\n",
    "features_df_1 = sales_media_1[features]\n",
    "features_df_1.head()"
   ]
  },
  {
   "cell_type": "code",
   "execution_count": 10,
   "metadata": {},
   "outputs": [
    {
     "data": {
      "text/html": [
       "<div>\n",
       "<style scoped>\n",
       "    .dataframe tbody tr th:only-of-type {\n",
       "        vertical-align: middle;\n",
       "    }\n",
       "\n",
       "    .dataframe tbody tr th {\n",
       "        vertical-align: top;\n",
       "    }\n",
       "\n",
       "    .dataframe thead th {\n",
       "        text-align: right;\n",
       "    }\n",
       "</style>\n",
       "<table border=\"1\" class=\"dataframe\">\n",
       "  <thead>\n",
       "    <tr style=\"text-align: right;\">\n",
       "      <th></th>\n",
       "      <th>Independent Features</th>\n",
       "      <th>VIF Scores</th>\n",
       "    </tr>\n",
       "  </thead>\n",
       "  <tbody>\n",
       "    <tr>\n",
       "      <th>3</th>\n",
       "      <td>Total_Investment_USD</td>\n",
       "      <td>6.030152e+06</td>\n",
       "    </tr>\n",
       "    <tr>\n",
       "      <th>6</th>\n",
       "      <td>Sponsorship_USD</td>\n",
       "      <td>1.399732e+06</td>\n",
       "    </tr>\n",
       "    <tr>\n",
       "      <th>8</th>\n",
       "      <td>Online_Marketing_USD</td>\n",
       "      <td>2.638707e+05</td>\n",
       "    </tr>\n",
       "    <tr>\n",
       "      <th>10</th>\n",
       "      <td>SEM_USD</td>\n",
       "      <td>8.931525e+04</td>\n",
       "    </tr>\n",
       "    <tr>\n",
       "      <th>12</th>\n",
       "      <td>Other_USD</td>\n",
       "      <td>6.984915e+04</td>\n",
       "    </tr>\n",
       "    <tr>\n",
       "      <th>9</th>\n",
       "      <td>Affiliates_USD</td>\n",
       "      <td>4.067280e+04</td>\n",
       "    </tr>\n",
       "    <tr>\n",
       "      <th>5</th>\n",
       "      <td>Digital_USD</td>\n",
       "      <td>2.062159e+04</td>\n",
       "    </tr>\n",
       "    <tr>\n",
       "      <th>4</th>\n",
       "      <td>TV_USD</td>\n",
       "      <td>1.774788e+04</td>\n",
       "    </tr>\n",
       "    <tr>\n",
       "      <th>11</th>\n",
       "      <td>Radio_USD</td>\n",
       "      <td>1.815943e+03</td>\n",
       "    </tr>\n",
       "    <tr>\n",
       "      <th>7</th>\n",
       "      <td>Content_Marketing_USD</td>\n",
       "      <td>1.018131e+03</td>\n",
       "    </tr>\n",
       "    <tr>\n",
       "      <th>0</th>\n",
       "      <td>mrp_USD</td>\n",
       "      <td>3.786505e+02</td>\n",
       "    </tr>\n",
       "    <tr>\n",
       "      <th>1</th>\n",
       "      <td>discount_USD</td>\n",
       "      <td>3.531855e+02</td>\n",
       "    </tr>\n",
       "    <tr>\n",
       "      <th>2</th>\n",
       "      <td>promotion</td>\n",
       "      <td>5.534456e+00</td>\n",
       "    </tr>\n",
       "  </tbody>\n",
       "</table>\n",
       "</div>"
      ],
      "text/plain": [
       "     Independent Features    VIF Scores\n",
       "3    Total_Investment_USD  6.030152e+06\n",
       "6         Sponsorship_USD  1.399732e+06\n",
       "8    Online_Marketing_USD  2.638707e+05\n",
       "10                SEM_USD  8.931525e+04\n",
       "12              Other_USD  6.984915e+04\n",
       "9          Affiliates_USD  4.067280e+04\n",
       "5             Digital_USD  2.062159e+04\n",
       "4                  TV_USD  1.774788e+04\n",
       "11              Radio_USD  1.815943e+03\n",
       "7   Content_Marketing_USD  1.018131e+03\n",
       "0                 mrp_USD  3.786505e+02\n",
       "1            discount_USD  3.531855e+02\n",
       "2               promotion  5.534456e+00"
      ]
     },
     "execution_count": 10,
     "metadata": {},
     "output_type": "execute_result"
    }
   ],
   "source": [
    "#vif_function\n",
    "def vif_scores(df):\n",
    "    VIF_Scores = pd.DataFrame()\n",
    "    VIF_Scores[\"Independent Features\"] = df.columns\n",
    "    VIF_Scores[\"VIF Scores\"] = [outliers_influence.variance_inflation_factor(df.values,i) for i in range(df.shape[1])]\n",
    "    return VIF_Scores\n",
    "\n",
    "#Apply function to features df\n",
    "vif_scores(features_df_1).sort_values(by='VIF Scores', ascending=False)"
   ]
  },
  {
   "cell_type": "markdown",
   "metadata": {},
   "source": [
    "#### Notes:\n",
    "* Promotion is the only variable that does not have a high correlation with other independent variables (this may be due to the scale though).\n",
    "* Total_Investment_USD is substantially higher than others though. Try removing this."
   ]
  },
  {
   "cell_type": "code",
   "execution_count": 11,
   "metadata": {
    "scrolled": false
   },
   "outputs": [
    {
     "data": {
      "text/html": [
       "<div>\n",
       "<style scoped>\n",
       "    .dataframe tbody tr th:only-of-type {\n",
       "        vertical-align: middle;\n",
       "    }\n",
       "\n",
       "    .dataframe tbody tr th {\n",
       "        vertical-align: top;\n",
       "    }\n",
       "\n",
       "    .dataframe thead th {\n",
       "        text-align: right;\n",
       "    }\n",
       "</style>\n",
       "<table border=\"1\" class=\"dataframe\">\n",
       "  <thead>\n",
       "    <tr style=\"text-align: right;\">\n",
       "      <th></th>\n",
       "      <th>Independent Features</th>\n",
       "      <th>VIF Scores</th>\n",
       "    </tr>\n",
       "  </thead>\n",
       "  <tbody>\n",
       "    <tr>\n",
       "      <th>7</th>\n",
       "      <td>Online_Marketing_USD</td>\n",
       "      <td>2384.267448</td>\n",
       "    </tr>\n",
       "    <tr>\n",
       "      <th>8</th>\n",
       "      <td>Affiliates_USD</td>\n",
       "      <td>2104.265502</td>\n",
       "    </tr>\n",
       "    <tr>\n",
       "      <th>9</th>\n",
       "      <td>SEM_USD</td>\n",
       "      <td>1190.039908</td>\n",
       "    </tr>\n",
       "    <tr>\n",
       "      <th>4</th>\n",
       "      <td>Digital_USD</td>\n",
       "      <td>593.571682</td>\n",
       "    </tr>\n",
       "    <tr>\n",
       "      <th>11</th>\n",
       "      <td>Other_USD</td>\n",
       "      <td>487.653725</td>\n",
       "    </tr>\n",
       "    <tr>\n",
       "      <th>10</th>\n",
       "      <td>Radio_USD</td>\n",
       "      <td>458.590158</td>\n",
       "    </tr>\n",
       "    <tr>\n",
       "      <th>0</th>\n",
       "      <td>mrp_USD</td>\n",
       "      <td>374.152776</td>\n",
       "    </tr>\n",
       "    <tr>\n",
       "      <th>1</th>\n",
       "      <td>discount_USD</td>\n",
       "      <td>350.567684</td>\n",
       "    </tr>\n",
       "    <tr>\n",
       "      <th>3</th>\n",
       "      <td>TV_USD</td>\n",
       "      <td>126.445819</td>\n",
       "    </tr>\n",
       "    <tr>\n",
       "      <th>6</th>\n",
       "      <td>Content_Marketing_USD</td>\n",
       "      <td>61.324868</td>\n",
       "    </tr>\n",
       "    <tr>\n",
       "      <th>5</th>\n",
       "      <td>Sponsorship_USD</td>\n",
       "      <td>29.294520</td>\n",
       "    </tr>\n",
       "    <tr>\n",
       "      <th>2</th>\n",
       "      <td>promotion</td>\n",
       "      <td>5.497722</td>\n",
       "    </tr>\n",
       "  </tbody>\n",
       "</table>\n",
       "</div>"
      ],
      "text/plain": [
       "     Independent Features   VIF Scores\n",
       "7    Online_Marketing_USD  2384.267448\n",
       "8          Affiliates_USD  2104.265502\n",
       "9                 SEM_USD  1190.039908\n",
       "4             Digital_USD   593.571682\n",
       "11              Other_USD   487.653725\n",
       "10              Radio_USD   458.590158\n",
       "0                 mrp_USD   374.152776\n",
       "1            discount_USD   350.567684\n",
       "3                  TV_USD   126.445819\n",
       "6   Content_Marketing_USD    61.324868\n",
       "5         Sponsorship_USD    29.294520\n",
       "2               promotion     5.497722"
      ]
     },
     "execution_count": 11,
     "metadata": {},
     "output_type": "execute_result"
    }
   ],
   "source": [
    "vif_scores(features_df_1.drop(columns='Total_Investment_USD')).sort_values(by='VIF Scores', ascending=False)"
   ]
  },
  {
   "cell_type": "code",
   "execution_count": 12,
   "metadata": {},
   "outputs": [],
   "source": [
    "#Drop Total_Investment_USD from df\n",
    "sales_media_1 = sales_media_1.drop(columns='Total_Investment_USD')"
   ]
  },
  {
   "cell_type": "markdown",
   "metadata": {},
   "source": [
    "#### Notes:\n",
    "* The VIF scores are still very high, but substantially less so without Total_Investment_USD.\n",
    "* Since Total_Investment_USD is the sum of all media spend variables, and it does not help to answer the business question of how each media channel impacts sales, it can be removed prior to modeling.\n",
    "* For now, all other variables will remain for the baseline model. We may want to revisit this with model optimization or utilize a model that minimizes multi-collinearity."
   ]
  },
  {
   "cell_type": "markdown",
   "metadata": {},
   "source": [
    "#### Option 2"
   ]
  },
  {
   "cell_type": "code",
   "execution_count": 13,
   "metadata": {},
   "outputs": [
    {
     "data": {
      "text/html": [
       "<div>\n",
       "<style scoped>\n",
       "    .dataframe tbody tr th:only-of-type {\n",
       "        vertical-align: middle;\n",
       "    }\n",
       "\n",
       "    .dataframe tbody tr th {\n",
       "        vertical-align: top;\n",
       "    }\n",
       "\n",
       "    .dataframe thead th {\n",
       "        text-align: right;\n",
       "    }\n",
       "</style>\n",
       "<table border=\"1\" class=\"dataframe\">\n",
       "  <thead>\n",
       "    <tr style=\"text-align: right;\">\n",
       "      <th></th>\n",
       "      <th>mrp_USD</th>\n",
       "      <th>discount_USD</th>\n",
       "      <th>promotion</th>\n",
       "      <th>Total_Investment_USD</th>\n",
       "      <th>TV_USD</th>\n",
       "      <th>Digital_USD</th>\n",
       "      <th>Sponsorship_USD</th>\n",
       "      <th>Content_Marketing_USD</th>\n",
       "      <th>Online_Marketing_USD</th>\n",
       "      <th>Affiliates_USD</th>\n",
       "      <th>SEM_USD</th>\n",
       "      <th>Radio_USD</th>\n",
       "      <th>Other_USD</th>\n",
       "    </tr>\n",
       "  </thead>\n",
       "  <tbody>\n",
       "    <tr>\n",
       "      <th>0</th>\n",
       "      <td>5701.436667</td>\n",
       "      <td>2323.233333</td>\n",
       "      <td>0.0</td>\n",
       "      <td>14390.0</td>\n",
       "      <td>154.0</td>\n",
       "      <td>580.0</td>\n",
       "      <td>6166.0</td>\n",
       "      <td>0.0</td>\n",
       "      <td>240.0</td>\n",
       "      <td>394.0</td>\n",
       "      <td>6733.0</td>\n",
       "      <td>0.0</td>\n",
       "      <td>0.0</td>\n",
       "    </tr>\n",
       "    <tr>\n",
       "      <th>1</th>\n",
       "      <td>5461.070000</td>\n",
       "      <td>2183.356667</td>\n",
       "      <td>0.0</td>\n",
       "      <td>7437.0</td>\n",
       "      <td>127.0</td>\n",
       "      <td>331.0</td>\n",
       "      <td>10149.0</td>\n",
       "      <td>0.0</td>\n",
       "      <td>230.0</td>\n",
       "      <td>61.0</td>\n",
       "      <td>1692.0</td>\n",
       "      <td>0.0</td>\n",
       "      <td>0.0</td>\n",
       "    </tr>\n",
       "    <tr>\n",
       "      <th>2</th>\n",
       "      <td>1057.860000</td>\n",
       "      <td>319.670000</td>\n",
       "      <td>0.0</td>\n",
       "      <td>4218.0</td>\n",
       "      <td>13.0</td>\n",
       "      <td>959.0</td>\n",
       "      <td>6512.0</td>\n",
       "      <td>0.0</td>\n",
       "      <td>375.0</td>\n",
       "      <td>522.0</td>\n",
       "      <td>4888.0</td>\n",
       "      <td>0.0</td>\n",
       "      <td>0.0</td>\n",
       "    </tr>\n",
       "    <tr>\n",
       "      <th>3</th>\n",
       "      <td>74333.196667</td>\n",
       "      <td>30680.616667</td>\n",
       "      <td>0.0</td>\n",
       "      <td>4171.0</td>\n",
       "      <td>112.0</td>\n",
       "      <td>2751.0</td>\n",
       "      <td>407.0</td>\n",
       "      <td>0.0</td>\n",
       "      <td>1491.0</td>\n",
       "      <td>452.0</td>\n",
       "      <td>4890.0</td>\n",
       "      <td>0.0</td>\n",
       "      <td>0.0</td>\n",
       "    </tr>\n",
       "    <tr>\n",
       "      <th>4</th>\n",
       "      <td>149918.863333</td>\n",
       "      <td>61793.006667</td>\n",
       "      <td>0.0</td>\n",
       "      <td>7087.0</td>\n",
       "      <td>41.0</td>\n",
       "      <td>2273.0</td>\n",
       "      <td>3511.0</td>\n",
       "      <td>0.0</td>\n",
       "      <td>1667.0</td>\n",
       "      <td>250.0</td>\n",
       "      <td>3127.0</td>\n",
       "      <td>0.0</td>\n",
       "      <td>0.0</td>\n",
       "    </tr>\n",
       "  </tbody>\n",
       "</table>\n",
       "</div>"
      ],
      "text/plain": [
       "         mrp_USD  discount_USD  promotion  Total_Investment_USD  TV_USD  \\\n",
       "0    5701.436667   2323.233333        0.0               14390.0   154.0   \n",
       "1    5461.070000   2183.356667        0.0                7437.0   127.0   \n",
       "2    1057.860000    319.670000        0.0                4218.0    13.0   \n",
       "3   74333.196667  30680.616667        0.0                4171.0   112.0   \n",
       "4  149918.863333  61793.006667        0.0                7087.0    41.0   \n",
       "\n",
       "   Digital_USD  Sponsorship_USD  Content_Marketing_USD  Online_Marketing_USD  \\\n",
       "0        580.0           6166.0                    0.0                 240.0   \n",
       "1        331.0          10149.0                    0.0                 230.0   \n",
       "2        959.0           6512.0                    0.0                 375.0   \n",
       "3       2751.0            407.0                    0.0                1491.0   \n",
       "4       2273.0           3511.0                    0.0                1667.0   \n",
       "\n",
       "   Affiliates_USD  SEM_USD  Radio_USD  Other_USD  \n",
       "0           394.0   6733.0        0.0        0.0  \n",
       "1            61.0   1692.0        0.0        0.0  \n",
       "2           522.0   4888.0        0.0        0.0  \n",
       "3           452.0   4890.0        0.0        0.0  \n",
       "4           250.0   3127.0        0.0        0.0  "
      ]
     },
     "execution_count": 13,
     "metadata": {},
     "output_type": "execute_result"
    }
   ],
   "source": [
    "#Get features to inspect\n",
    "features = sales_media_2.drop(columns=['units','prod_cam','prod_cam_assry',\n",
    "                                       'prod_small_ent','prod_gaming_hw']).columns.to_list()\n",
    "\n",
    "#filter df to independent variables\n",
    "features_df_2 = sales_media_2[features]\n",
    "features_df_2.head()"
   ]
  },
  {
   "cell_type": "code",
   "execution_count": 14,
   "metadata": {},
   "outputs": [
    {
     "data": {
      "text/html": [
       "<div>\n",
       "<style scoped>\n",
       "    .dataframe tbody tr th:only-of-type {\n",
       "        vertical-align: middle;\n",
       "    }\n",
       "\n",
       "    .dataframe tbody tr th {\n",
       "        vertical-align: top;\n",
       "    }\n",
       "\n",
       "    .dataframe thead th {\n",
       "        text-align: right;\n",
       "    }\n",
       "</style>\n",
       "<table border=\"1\" class=\"dataframe\">\n",
       "  <thead>\n",
       "    <tr style=\"text-align: right;\">\n",
       "      <th></th>\n",
       "      <th>Independent Features</th>\n",
       "      <th>VIF Scores</th>\n",
       "    </tr>\n",
       "  </thead>\n",
       "  <tbody>\n",
       "    <tr>\n",
       "      <th>1</th>\n",
       "      <td>discount_USD</td>\n",
       "      <td>255.769476</td>\n",
       "    </tr>\n",
       "    <tr>\n",
       "      <th>0</th>\n",
       "      <td>mrp_USD</td>\n",
       "      <td>236.709002</td>\n",
       "    </tr>\n",
       "    <tr>\n",
       "      <th>2</th>\n",
       "      <td>promotion</td>\n",
       "      <td>4.780093</td>\n",
       "    </tr>\n",
       "    <tr>\n",
       "      <th>9</th>\n",
       "      <td>Affiliates_USD</td>\n",
       "      <td>2.024866</td>\n",
       "    </tr>\n",
       "    <tr>\n",
       "      <th>7</th>\n",
       "      <td>Content_Marketing_USD</td>\n",
       "      <td>1.981438</td>\n",
       "    </tr>\n",
       "    <tr>\n",
       "      <th>5</th>\n",
       "      <td>Digital_USD</td>\n",
       "      <td>1.938450</td>\n",
       "    </tr>\n",
       "    <tr>\n",
       "      <th>3</th>\n",
       "      <td>Total_Investment_USD</td>\n",
       "      <td>1.906954</td>\n",
       "    </tr>\n",
       "    <tr>\n",
       "      <th>8</th>\n",
       "      <td>Online_Marketing_USD</td>\n",
       "      <td>1.904695</td>\n",
       "    </tr>\n",
       "    <tr>\n",
       "      <th>10</th>\n",
       "      <td>SEM_USD</td>\n",
       "      <td>1.868541</td>\n",
       "    </tr>\n",
       "    <tr>\n",
       "      <th>4</th>\n",
       "      <td>TV_USD</td>\n",
       "      <td>1.763332</td>\n",
       "    </tr>\n",
       "    <tr>\n",
       "      <th>6</th>\n",
       "      <td>Sponsorship_USD</td>\n",
       "      <td>1.710035</td>\n",
       "    </tr>\n",
       "    <tr>\n",
       "      <th>12</th>\n",
       "      <td>Other_USD</td>\n",
       "      <td>1.535571</td>\n",
       "    </tr>\n",
       "    <tr>\n",
       "      <th>11</th>\n",
       "      <td>Radio_USD</td>\n",
       "      <td>1.451085</td>\n",
       "    </tr>\n",
       "  </tbody>\n",
       "</table>\n",
       "</div>"
      ],
      "text/plain": [
       "     Independent Features  VIF Scores\n",
       "1            discount_USD  255.769476\n",
       "0                 mrp_USD  236.709002\n",
       "2               promotion    4.780093\n",
       "9          Affiliates_USD    2.024866\n",
       "7   Content_Marketing_USD    1.981438\n",
       "5             Digital_USD    1.938450\n",
       "3    Total_Investment_USD    1.906954\n",
       "8    Online_Marketing_USD    1.904695\n",
       "10                SEM_USD    1.868541\n",
       "4                  TV_USD    1.763332\n",
       "6         Sponsorship_USD    1.710035\n",
       "12              Other_USD    1.535571\n",
       "11              Radio_USD    1.451085"
      ]
     },
     "execution_count": 14,
     "metadata": {},
     "output_type": "execute_result"
    }
   ],
   "source": [
    "#Apply function to features df\n",
    "vif_scores(features_df_2).sort_values(by='VIF Scores', ascending=False)"
   ]
  },
  {
   "cell_type": "markdown",
   "metadata": {},
   "source": [
    "#### Notes:\n",
    "* Although the baseline variables have very high VIF scores (mrp_USD, discount_USD), they should remain in the models for now since they are control variables.\n",
    "* For Option 2, Total_Investment_USD does not have a high VIF score, but let's check out the VIF scores with it removed for consistency with Option 1."
   ]
  },
  {
   "cell_type": "code",
   "execution_count": 15,
   "metadata": {},
   "outputs": [
    {
     "data": {
      "text/html": [
       "<div>\n",
       "<style scoped>\n",
       "    .dataframe tbody tr th:only-of-type {\n",
       "        vertical-align: middle;\n",
       "    }\n",
       "\n",
       "    .dataframe tbody tr th {\n",
       "        vertical-align: top;\n",
       "    }\n",
       "\n",
       "    .dataframe thead th {\n",
       "        text-align: right;\n",
       "    }\n",
       "</style>\n",
       "<table border=\"1\" class=\"dataframe\">\n",
       "  <thead>\n",
       "    <tr style=\"text-align: right;\">\n",
       "      <th></th>\n",
       "      <th>Independent Features</th>\n",
       "      <th>VIF Scores</th>\n",
       "    </tr>\n",
       "  </thead>\n",
       "  <tbody>\n",
       "    <tr>\n",
       "      <th>1</th>\n",
       "      <td>discount_USD</td>\n",
       "      <td>254.689680</td>\n",
       "    </tr>\n",
       "    <tr>\n",
       "      <th>0</th>\n",
       "      <td>mrp_USD</td>\n",
       "      <td>234.717330</td>\n",
       "    </tr>\n",
       "    <tr>\n",
       "      <th>2</th>\n",
       "      <td>promotion</td>\n",
       "      <td>4.776697</td>\n",
       "    </tr>\n",
       "    <tr>\n",
       "      <th>6</th>\n",
       "      <td>Content_Marketing_USD</td>\n",
       "      <td>1.981407</td>\n",
       "    </tr>\n",
       "    <tr>\n",
       "      <th>8</th>\n",
       "      <td>Affiliates_USD</td>\n",
       "      <td>1.978361</td>\n",
       "    </tr>\n",
       "    <tr>\n",
       "      <th>7</th>\n",
       "      <td>Online_Marketing_USD</td>\n",
       "      <td>1.904300</td>\n",
       "    </tr>\n",
       "    <tr>\n",
       "      <th>4</th>\n",
       "      <td>Digital_USD</td>\n",
       "      <td>1.860537</td>\n",
       "    </tr>\n",
       "    <tr>\n",
       "      <th>9</th>\n",
       "      <td>SEM_USD</td>\n",
       "      <td>1.846423</td>\n",
       "    </tr>\n",
       "    <tr>\n",
       "      <th>3</th>\n",
       "      <td>TV_USD</td>\n",
       "      <td>1.741111</td>\n",
       "    </tr>\n",
       "    <tr>\n",
       "      <th>5</th>\n",
       "      <td>Sponsorship_USD</td>\n",
       "      <td>1.707421</td>\n",
       "    </tr>\n",
       "    <tr>\n",
       "      <th>11</th>\n",
       "      <td>Other_USD</td>\n",
       "      <td>1.529564</td>\n",
       "    </tr>\n",
       "    <tr>\n",
       "      <th>10</th>\n",
       "      <td>Radio_USD</td>\n",
       "      <td>1.450187</td>\n",
       "    </tr>\n",
       "  </tbody>\n",
       "</table>\n",
       "</div>"
      ],
      "text/plain": [
       "     Independent Features  VIF Scores\n",
       "1            discount_USD  254.689680\n",
       "0                 mrp_USD  234.717330\n",
       "2               promotion    4.776697\n",
       "6   Content_Marketing_USD    1.981407\n",
       "8          Affiliates_USD    1.978361\n",
       "7    Online_Marketing_USD    1.904300\n",
       "4             Digital_USD    1.860537\n",
       "9                 SEM_USD    1.846423\n",
       "3                  TV_USD    1.741111\n",
       "5         Sponsorship_USD    1.707421\n",
       "11              Other_USD    1.529564\n",
       "10              Radio_USD    1.450187"
      ]
     },
     "execution_count": 15,
     "metadata": {},
     "output_type": "execute_result"
    }
   ],
   "source": [
    "vif_scores(features_df_2.drop(columns='Total_Investment_USD')).sort_values(by='VIF Scores', ascending=False)"
   ]
  },
  {
   "cell_type": "code",
   "execution_count": 16,
   "metadata": {},
   "outputs": [],
   "source": [
    "#Drop Total_Investment_USD from df for consistency with Option 1\n",
    "sales_media_2 = sales_media_2.drop(columns='Total_Investment_USD')"
   ]
  },
  {
   "cell_type": "markdown",
   "metadata": {},
   "source": [
    "## C: Train-Test Split <a class=\"anchor\" id=\"c\"></a>"
   ]
  },
  {
   "cell_type": "markdown",
   "metadata": {},
   "source": [
    "#### Option 1"
   ]
  },
  {
   "cell_type": "code",
   "execution_count": 17,
   "metadata": {},
   "outputs": [],
   "source": [
    "#Create features variable list\n",
    "features_1 = sales_media_1.drop(columns=['units','prod_cam','prod_cam_assry','prod_small_ent','prod_gaming_hw'])\n",
    "\n",
    "#Get target variable ('units')\n",
    "target_1 = sales_media_1['units']"
   ]
  },
  {
   "cell_type": "code",
   "execution_count": 18,
   "metadata": {},
   "outputs": [],
   "source": [
    "#Conduct train test split for option 1, using 30% test size, so test sample has > 100 cases\n",
    "X_train_1, X_test_1, y_train_1, y_test_1 = train_test_split(features_1, target_1, test_size=0.3, \n",
    "                                                    random_state=2)"
   ]
  },
  {
   "cell_type": "code",
   "execution_count": 19,
   "metadata": {
    "scrolled": false
   },
   "outputs": [
    {
     "name": "stdout",
     "output_type": "stream",
     "text": [
      "Training Features:\n",
      "Index(['mrp_USD', 'discount_USD', 'promotion', 'TV_USD', 'Digital_USD',\n",
      "       'Sponsorship_USD', 'Content_Marketing_USD', 'Online_Marketing_USD',\n",
      "       'Affiliates_USD', 'SEM_USD', 'Radio_USD', 'Other_USD'],\n",
      "      dtype='object')\n",
      "(250, 12)\n",
      "Test Features:\n",
      "Index(['mrp_USD', 'discount_USD', 'promotion', 'TV_USD', 'Digital_USD',\n",
      "       'Sponsorship_USD', 'Content_Marketing_USD', 'Online_Marketing_USD',\n",
      "       'Affiliates_USD', 'SEM_USD', 'Radio_USD', 'Other_USD'],\n",
      "      dtype='object')\n",
      "(108, 12)\n",
      "Training y:\n",
      "(250,)\n",
      "Test y:\n",
      "(108,)\n"
     ]
    }
   ],
   "source": [
    "#Check work\n",
    "print('Training Features:')\n",
    "print(X_train_1.columns)\n",
    "print(X_train_1.shape)\n",
    "print('Test Features:')\n",
    "print(X_test_1.columns)\n",
    "print(X_test_1.shape)\n",
    "print('Training y:')\n",
    "print(y_train_1.shape)\n",
    "print('Test y:')\n",
    "print(y_test_1.shape)"
   ]
  },
  {
   "cell_type": "markdown",
   "metadata": {},
   "source": [
    "#### Option 2"
   ]
  },
  {
   "cell_type": "code",
   "execution_count": 20,
   "metadata": {},
   "outputs": [],
   "source": [
    "#Create features variable list\n",
    "features_2 = sales_media_2.drop(columns=['units','prod_cam','prod_cam_assry','prod_small_ent','prod_gaming_hw'])\n",
    "\n",
    "#Get target variable ('units')\n",
    "target_2 = sales_media_2['units']"
   ]
  },
  {
   "cell_type": "code",
   "execution_count": 21,
   "metadata": {},
   "outputs": [],
   "source": [
    "#Conduct train test split for option 1, using 30% test size, so test sample has > 100 cases\n",
    "X_train_2, X_test_2, y_train_2, y_test_2 = train_test_split(features_2, target_2, test_size=0.3, \n",
    "                                                    random_state=2)"
   ]
  },
  {
   "cell_type": "code",
   "execution_count": 22,
   "metadata": {
    "scrolled": true
   },
   "outputs": [
    {
     "name": "stdout",
     "output_type": "stream",
     "text": [
      "Training Features:\n",
      "Index(['mrp_USD', 'discount_USD', 'promotion', 'TV_USD', 'Digital_USD',\n",
      "       'Sponsorship_USD', 'Content_Marketing_USD', 'Online_Marketing_USD',\n",
      "       'Affiliates_USD', 'SEM_USD', 'Radio_USD', 'Other_USD'],\n",
      "      dtype='object')\n",
      "(250, 12)\n",
      "Test Features:\n",
      "Index(['mrp_USD', 'discount_USD', 'promotion', 'TV_USD', 'Digital_USD',\n",
      "       'Sponsorship_USD', 'Content_Marketing_USD', 'Online_Marketing_USD',\n",
      "       'Affiliates_USD', 'SEM_USD', 'Radio_USD', 'Other_USD'],\n",
      "      dtype='object')\n",
      "(108, 12)\n",
      "Training y:\n",
      "(250,)\n",
      "Test y:\n",
      "(108,)\n"
     ]
    }
   ],
   "source": [
    "#Check work\n",
    "print('Training Features:')\n",
    "print(X_train_2.columns)\n",
    "print(X_train_2.shape)\n",
    "print('Test Features:')\n",
    "print(X_test_2.columns)\n",
    "print(X_test_2.shape)\n",
    "print('Training y:')\n",
    "print(y_train_2.shape)\n",
    "print('Test y:')\n",
    "print(y_test_2.shape)"
   ]
  },
  {
   "cell_type": "markdown",
   "metadata": {},
   "source": [
    "## D: Scaling IVs<a class=\"anchor\" id=\"d\"></a>\n",
    "Scale the independent variables using StandardScaler to ensure all variables are on the same scale (not varying dollar amounts and counts)"
   ]
  },
  {
   "cell_type": "markdown",
   "metadata": {},
   "source": [
    "#### Option 1"
   ]
  },
  {
   "cell_type": "code",
   "execution_count": 23,
   "metadata": {},
   "outputs": [
    {
     "name": "stdout",
     "output_type": "stream",
     "text": [
      "-4.1448326252672514e-18\n",
      "0.11078953341327243\n"
     ]
    }
   ],
   "source": [
    "#Instantiate the StandardScaler\n",
    "scaler = StandardScaler()\n",
    "\n",
    "#Fit the scaler with the training set\n",
    "scaler.fit(X_train_1)\n",
    "\n",
    "#Transform the training and test sets using the fit scaler\n",
    "X_train_1_scaled = scaler.transform(X_train_1)\n",
    "X_test_1_scaled = scaler.transform(X_test_1)\n",
    "\n",
    "#Check work\n",
    "print(X_train_1_scaled.mean())\n",
    "print(X_test_1_scaled.mean())"
   ]
  },
  {
   "cell_type": "markdown",
   "metadata": {},
   "source": [
    "#### Option 2"
   ]
  },
  {
   "cell_type": "code",
   "execution_count": 24,
   "metadata": {},
   "outputs": [
    {
     "name": "stdout",
     "output_type": "stream",
     "text": [
      "6.217248937900877e-18\n",
      "0.0566760587556149\n"
     ]
    }
   ],
   "source": [
    "#Instantiate the StandardScaler\n",
    "scaler = StandardScaler()\n",
    "\n",
    "#Fit the scaler with the training set\n",
    "scaler.fit(X_train_2)\n",
    "\n",
    "#Transform the training and test sets using the fit scaler\n",
    "X_train_2_scaled = scaler.transform(X_train_2)\n",
    "X_test_2_scaled = scaler.transform(X_test_2)\n",
    "\n",
    "#Check work\n",
    "print(X_train_2_scaled.mean())\n",
    "print(X_test_2_scaled.mean())"
   ]
  },
  {
   "cell_type": "markdown",
   "metadata": {},
   "source": [
    "## E: Baseline Models <a class=\"anchor\" id=\"e\"></a>\n",
    "For baseline, we'll use a simple linear regression model."
   ]
  },
  {
   "cell_type": "markdown",
   "metadata": {},
   "source": [
    "#### Train Baseline Model Option 1"
   ]
  },
  {
   "cell_type": "code",
   "execution_count": 25,
   "metadata": {},
   "outputs": [],
   "source": [
    "#Fit and train linear regression model\n",
    "lr_model_1 = LinearRegression().fit(X_train_1_scaled, y_train_1)\n",
    "\n",
    "#Generate predictions\n",
    "y_train_1_pred = lr_model_1.predict(X_train_1_scaled)\n",
    "y_test_1_pred = lr_model_1.predict(X_test_1_scaled)"
   ]
  },
  {
   "cell_type": "code",
   "execution_count": 26,
   "metadata": {
    "scrolled": false
   },
   "outputs": [
    {
     "name": "stdout",
     "output_type": "stream",
     "text": [
      "Weight coefficients:  [-1301.57710503  3654.71545606  -269.1777158   -746.24750173\n",
      "  3811.23317674  1825.92569218 -1616.86423788 -3131.00244841\n",
      "  4133.71464699 -3199.15793683  2001.79131473 -1554.00020638]\n",
      "y-intercept:  4390.362666666669\n"
     ]
    }
   ],
   "source": [
    "#Model parameters\n",
    "print('Weight coefficients: ',lr_model_1.coef_)\n",
    "print('y-intercept: ',lr_model_1.intercept_)"
   ]
  },
  {
   "cell_type": "markdown",
   "metadata": {},
   "source": [
    "#### Evaluate Baseline Model Option 1"
   ]
  },
  {
   "cell_type": "markdown",
   "metadata": {},
   "source": [
    "Accuracy plot code adapted from Towards Data Science article by Terence Shin <br> [Source]('https://towardsdatascience.com/building-a-simple-marketing-mix-model-with-ols-571ac3d5b64f![image.png](attachment:image.png)')"
   ]
  },
  {
   "cell_type": "code",
   "execution_count": 27,
   "metadata": {},
   "outputs": [
    {
     "data": {
      "image/png": "[encoded data removed]",
      "text/plain": [
       "<Figure size 1200x400 with 1 Axes>"
      ]
     },
     "metadata": {
      "needs_background": "light"
     },
     "output_type": "display_data"
    }
   ],
   "source": [
    "#Plot accuracy\n",
    "\n",
    "# Creating Line Graph\n",
    "plt.figure(num=None, figsize=(15, 5), dpi=80)\n",
    "y1 = y_test_1.to_numpy()\n",
    "y2 = y_test_1_pred\n",
    "plt.plot(y1, label = 'Actual', color = 'aqua') \n",
    "plt.plot(y2, label = 'Predicted', color = 'navy')\n",
    "plt.title('Model 1: Actual y Values vs. Predicted y Values')\n",
    "plt.legend()\n",
    "plt.show()"
   ]
  },
  {
   "cell_type": "code",
   "execution_count": 28,
   "metadata": {},
   "outputs": [
    {
     "data": {
      "text/plain": [
       "(0.8766014661101883, 0.9609741933501526)"
      ]
     },
     "execution_count": 28,
     "metadata": {},
     "output_type": "execute_result"
    }
   ],
   "source": [
    "# Get r-squared value for training and test sets\n",
    "r2_lr_1 = r2_score(y_train_1, y_train_1_pred), r2_score(y_test_1, y_test_1_pred)\n",
    "r2_lr_1"
   ]
  },
  {
   "cell_type": "code",
   "execution_count": 29,
   "metadata": {},
   "outputs": [
    {
     "data": {
      "text/plain": [
       "(575.9053642962609, 586.0775651408597)"
      ]
     },
     "execution_count": 29,
     "metadata": {},
     "output_type": "execute_result"
    }
   ],
   "source": [
    "# Get mean absolute error for training and test sets\n",
    "mae_lr_1 = mean_absolute_error(y_train_1, y_train_1_pred), mean_absolute_error(y_test_1, y_test_1_pred)\n",
    "mae_lr_1"
   ]
  },
  {
   "cell_type": "code",
   "execution_count": 30,
   "metadata": {},
   "outputs": [
    {
     "data": {
      "text/plain": [
       "(835005.7894036123, 575567.8455200158)"
      ]
     },
     "execution_count": 30,
     "metadata": {},
     "output_type": "execute_result"
    }
   ],
   "source": [
    "#Get mean squared error for training and test sets\n",
    "mse_lr_1 = mean_squared_error(y_train_1, y_train_1_pred), mean_squared_error(y_test_1, y_test_1_pred)\n",
    "mse_lr_1"
   ]
  },
  {
   "cell_type": "code",
   "execution_count": 31,
   "metadata": {},
   "outputs": [
    {
     "data": {
      "text/plain": [
       "array([913.78651194, 758.66187826])"
      ]
     },
     "execution_count": 31,
     "metadata": {},
     "output_type": "execute_result"
    }
   ],
   "source": [
    "#Get root mean squared error for training and test sets\n",
    "#Standard deviation of the residuals\n",
    "np.sqrt(mse_lr_1)"
   ]
  },
  {
   "cell_type": "markdown",
   "metadata": {},
   "source": [
    "Feature importance for the linear regression models will be determined using the regression coeficients. Explanation below sourced from article by Jim Frost. [Source]('https://statisticsbyjim.com/glossary/regression-coefficient/#:~:text=In%20linear%20regression%2C%20coefficients%20are,that%20multiply%20the%20predictor%20values.&text=The%20sign%20of%20each%20coefficient,the%20response%20variable%20also%20increases') \n",
    "* \"The coefficient value represents the mean change in the response (sales units) given a one unit (std) change in the predictor.\"\n",
    "* \"A positive sign indicates that as the predictor variable increases, the response variable also increases.\"\n",
    "* \"A negative sign indicates that as the predictor variable increases, the response variable decreases.\"\n",
    "<br>\n",
    "<br>\n",
    "Feature importances code below adapted from Feature Importances YouTube video by \n",
    "Sefik Ilkin Serengil at 'https://www.youtube.com/watch?v=Y9nN_6sbXkM&t=1009s'"
   ]
  },
  {
   "cell_type": "code",
   "execution_count": 32,
   "metadata": {
    "scrolled": true
   },
   "outputs": [
    {
     "data": {
      "text/html": [
       "<div>\n",
       "<style scoped>\n",
       "    .dataframe tbody tr th:only-of-type {\n",
       "        vertical-align: middle;\n",
       "    }\n",
       "\n",
       "    .dataframe tbody tr th {\n",
       "        vertical-align: top;\n",
       "    }\n",
       "\n",
       "    .dataframe thead th {\n",
       "        text-align: right;\n",
       "    }\n",
       "</style>\n",
       "<table border=\"1\" class=\"dataframe\">\n",
       "  <thead>\n",
       "    <tr style=\"text-align: right;\">\n",
       "      <th></th>\n",
       "      <th>coefficient</th>\n",
       "      <th>std</th>\n",
       "      <th>importance</th>\n",
       "      <th>perc_change_y</th>\n",
       "    </tr>\n",
       "  </thead>\n",
       "  <tbody>\n",
       "    <tr>\n",
       "      <th>SEM_USD</th>\n",
       "      <td>-3199.157937</td>\n",
       "      <td>1.282448</td>\n",
       "      <td>-4102.753429</td>\n",
       "      <td>-86.617512</td>\n",
       "    </tr>\n",
       "    <tr>\n",
       "      <th>discount_USD</th>\n",
       "      <td>3654.715456</td>\n",
       "      <td>0.637546</td>\n",
       "      <td>2330.049474</td>\n",
       "      <td>49.192108</td>\n",
       "    </tr>\n",
       "    <tr>\n",
       "      <th>Digital_USD</th>\n",
       "      <td>3811.233177</td>\n",
       "      <td>0.604561</td>\n",
       "      <td>2304.124361</td>\n",
       "      <td>48.644776</td>\n",
       "    </tr>\n",
       "    <tr>\n",
       "      <th>Sponsorship_USD</th>\n",
       "      <td>1825.925692</td>\n",
       "      <td>1.229068</td>\n",
       "      <td>2244.187630</td>\n",
       "      <td>47.379389</td>\n",
       "    </tr>\n",
       "    <tr>\n",
       "      <th>Affiliates_USD</th>\n",
       "      <td>4133.714647</td>\n",
       "      <td>0.502908</td>\n",
       "      <td>2078.879923</td>\n",
       "      <td>43.889405</td>\n",
       "    </tr>\n",
       "    <tr>\n",
       "      <th>Online_Marketing_USD</th>\n",
       "      <td>-3131.002448</td>\n",
       "      <td>0.605411</td>\n",
       "      <td>-1895.544358</td>\n",
       "      <td>-40.018817</td>\n",
       "    </tr>\n",
       "    <tr>\n",
       "      <th>Content_Marketing_USD</th>\n",
       "      <td>-1616.864238</td>\n",
       "      <td>0.576706</td>\n",
       "      <td>-932.454521</td>\n",
       "      <td>-19.686021</td>\n",
       "    </tr>\n",
       "    <tr>\n",
       "      <th>Radio_USD</th>\n",
       "      <td>2001.791315</td>\n",
       "      <td>0.458549</td>\n",
       "      <td>917.919149</td>\n",
       "      <td>19.379150</td>\n",
       "    </tr>\n",
       "    <tr>\n",
       "      <th>mrp_USD</th>\n",
       "      <td>-1301.577105</td>\n",
       "      <td>0.619172</td>\n",
       "      <td>-805.900304</td>\n",
       "      <td>-17.014203</td>\n",
       "    </tr>\n",
       "    <tr>\n",
       "      <th>Other_USD</th>\n",
       "      <td>-1554.000206</td>\n",
       "      <td>0.385840</td>\n",
       "      <td>-599.595454</td>\n",
       "      <td>-12.658686</td>\n",
       "    </tr>\n",
       "    <tr>\n",
       "      <th>TV_USD</th>\n",
       "      <td>-746.247502</td>\n",
       "      <td>0.481019</td>\n",
       "      <td>-358.959414</td>\n",
       "      <td>-7.578367</td>\n",
       "    </tr>\n",
       "    <tr>\n",
       "      <th>promotion</th>\n",
       "      <td>-269.177716</td>\n",
       "      <td>0.459420</td>\n",
       "      <td>-123.665576</td>\n",
       "      <td>-2.610833</td>\n",
       "    </tr>\n",
       "  </tbody>\n",
       "</table>\n",
       "</div>"
      ],
      "text/plain": [
       "                       coefficient       std   importance  perc_change_y\n",
       "SEM_USD               -3199.157937  1.282448 -4102.753429     -86.617512\n",
       "discount_USD           3654.715456  0.637546  2330.049474      49.192108\n",
       "Digital_USD            3811.233177  0.604561  2304.124361      48.644776\n",
       "Sponsorship_USD        1825.925692  1.229068  2244.187630      47.379389\n",
       "Affiliates_USD         4133.714647  0.502908  2078.879923      43.889405\n",
       "Online_Marketing_USD  -3131.002448  0.605411 -1895.544358     -40.018817\n",
       "Content_Marketing_USD -1616.864238  0.576706  -932.454521     -19.686021\n",
       "Radio_USD              2001.791315  0.458549   917.919149      19.379150\n",
       "mrp_USD               -1301.577105  0.619172  -805.900304     -17.014203\n",
       "Other_USD             -1554.000206  0.385840  -599.595454     -12.658686\n",
       "TV_USD                 -746.247502  0.481019  -358.959414      -7.578367\n",
       "promotion              -269.177716  0.459420  -123.665576      -2.610833"
      ]
     },
     "execution_count": 32,
     "metadata": {},
     "output_type": "execute_result"
    }
   ],
   "source": [
    "#Create coeficients variable\n",
    "coefficients = lr_model_1.coef_\n",
    "\n",
    "#Create feature importances df\n",
    "feature_importances = pd.DataFrame(coefficients, X_test_1.columns, columns = ['coefficient'])\n",
    "\n",
    "#Get standard deviations for each feature\n",
    "stdevs = []\n",
    "for i in range(len(X_test_1.columns)):\n",
    "    stdev = X_test_1_scaled[i].std()\n",
    "    stdevs.append(stdev)\n",
    "    \n",
    "#Get avg. y-value\n",
    "avg_y = y_test_1.mean()\n",
    "\n",
    "#Create std column for each feature\n",
    "feature_importances['std'] = np.array(stdevs).reshape(-1,1)\n",
    "feature_importances['importance'] = feature_importances['std']* feature_importances['coefficient']\n",
    "feature_importances['perc_change_y'] = ((feature_importances['importance'])/avg_y)*100\n",
    "feature_importances.reindex(feature_importances['importance'].abs().sort_values(ascending=False).index)"
   ]
  },
  {
   "cell_type": "code",
   "execution_count": 33,
   "metadata": {
    "scrolled": false
   },
   "outputs": [
    {
     "data": {
      "image/png": "[encoded data removed]",
      "text/plain": [
       "<Figure size 1080x360 with 1 Axes>"
      ]
     },
     "metadata": {
      "needs_background": "light"
     },
     "output_type": "display_data"
    }
   ],
   "source": [
    "# plot feature importance\n",
    "plt.figure(figsize=(15,5))\n",
    "plt.bar(X_test_1.columns.to_list(),feature_importances['importance'])\n",
    "plt.xticks(rotation=80)\n",
    "plt.title('Model 1: Feature Importances')\n",
    "plt.show()"
   ]
  },
  {
   "cell_type": "markdown",
   "metadata": {},
   "source": [
    "#### Summary of Linear Regression Model 1 :\n",
    "Baseline model using the option 1 data with monthly spend divided evenly across each day.\n",
    "* Resulted in a high r-squared value with 96.01% of the variance in unit sales being predicted by the model. \n",
    "* The mean absolute error was relatively low at 586.08. \n",
    "* The root mean squared error was also relatively low at 758.66.\n",
    "* A mapping of feature importances shows that (of the media spend variables) the SEM, digital, sponsorship, and affiliates spend were the strongest predictors of unit sales, although SEM had a strong negative impact."
   ]
  },
  {
   "cell_type": "markdown",
   "metadata": {},
   "source": [
    "#### Train Baseline Model Option 2"
   ]
  },
  {
   "cell_type": "code",
   "execution_count": 34,
   "metadata": {},
   "outputs": [],
   "source": [
    "#Fit and train linear regression model\n",
    "lr_model_2 = LinearRegression().fit(X_train_2_scaled, y_train_2)\n",
    "\n",
    "#Generate predictions\n",
    "y_train_2_pred = lr_model_2.predict(X_train_2_scaled)\n",
    "y_test_2_pred = lr_model_2.predict(X_test_2_scaled)"
   ]
  },
  {
   "cell_type": "code",
   "execution_count": 35,
   "metadata": {},
   "outputs": [
    {
     "name": "stdout",
     "output_type": "stream",
     "text": [
      "Weight coefficients:  [1983.17241356  685.9249898  -506.91950153   76.17802375   53.41335433\n",
      "  140.68715118 -118.78621411  133.80354752  167.88226223   42.7938157\n",
      " -205.9732189    64.10762603]\n"
     ]
    }
   ],
   "source": [
    "#Model parameters\n",
    "print('Weight coefficients: ',lr_model_2.coef_)"
   ]
  },
  {
   "cell_type": "markdown",
   "metadata": {},
   "source": [
    "#### Evaluate Baseline Model Option 2"
   ]
  },
  {
   "cell_type": "code",
   "execution_count": 36,
   "metadata": {},
   "outputs": [
    {
     "data": {
      "image/png": "[encoded data removed]",
      "text/plain": [
       "<Figure size 1200x400 with 1 Axes>"
      ]
     },
     "metadata": {
      "needs_background": "light"
     },
     "output_type": "display_data"
    }
   ],
   "source": [
    "#Plot accuracy\n",
    "\n",
    "# Creating Line Graph\n",
    "plt.figure(num=None, figsize=(15, 5), dpi=80)\n",
    "y1 = y_test_2.to_numpy()\n",
    "y2 = y_test_2_pred\n",
    "plt.plot(y1, label = 'Actual', color = 'aqua') \n",
    "plt.plot(y2, label = 'Predicted', color = 'navy')\n",
    "plt.title('Model 2: Actual y Values vs. Predicted y Values')\n",
    "plt.legend()\n",
    "plt.show()"
   ]
  },
  {
   "cell_type": "code",
   "execution_count": 37,
   "metadata": {},
   "outputs": [
    {
     "data": {
      "text/plain": [
       "(0.8464784268348527, 0.912085167057626)"
      ]
     },
     "execution_count": 37,
     "metadata": {},
     "output_type": "execute_result"
    }
   ],
   "source": [
    "# Get r-squared value for training and test sets\n",
    "r2_lr_2 = r2_score(y_train_2, y_train_2_pred), r2_score(y_test_2, y_test_2_pred)\n",
    "r2_lr_2"
   ]
  },
  {
   "cell_type": "code",
   "execution_count": 38,
   "metadata": {},
   "outputs": [
    {
     "data": {
      "text/plain": [
       "(733.5743848509477, 810.8974698240634)"
      ]
     },
     "execution_count": 38,
     "metadata": {},
     "output_type": "execute_result"
    }
   ],
   "source": [
    "# Get mean absolute error for training and test sets\n",
    "mae_lr_2 = mean_absolute_error(y_train_2, y_train_2_pred), mean_absolute_error(y_test_2, y_test_2_pred)\n",
    "mae_lr_2"
   ]
  },
  {
   "cell_type": "code",
   "execution_count": 39,
   "metadata": {},
   "outputs": [
    {
     "data": {
      "text/plain": [
       "(1038840.5627713236, 1296602.308311086)"
      ]
     },
     "execution_count": 39,
     "metadata": {},
     "output_type": "execute_result"
    }
   ],
   "source": [
    "#Get mean squared error for training and test sets\n",
    "mse_lr_2 = mean_squared_error(y_train_2, y_train_2_pred), mean_squared_error(y_test_2, y_test_2_pred)\n",
    "mse_lr_2"
   ]
  },
  {
   "cell_type": "code",
   "execution_count": 40,
   "metadata": {
    "scrolled": true
   },
   "outputs": [
    {
     "data": {
      "text/plain": [
       "array([1019.23528332, 1138.68446389])"
      ]
     },
     "execution_count": 40,
     "metadata": {},
     "output_type": "execute_result"
    }
   ],
   "source": [
    "#Get root mean squared error for training and test sets\n",
    "np.sqrt(mse_lr_2)"
   ]
  },
  {
   "cell_type": "markdown",
   "metadata": {},
   "source": [
    "Feature importances code below adapted from Machine Learning Mastery Article by Jason Brownlee [Source]('https://machinelearningmastery.com/calculate-feature-importance-with-python/')"
   ]
  },
  {
   "cell_type": "code",
   "execution_count": 41,
   "metadata": {},
   "outputs": [
    {
     "data": {
      "text/html": [
       "<div>\n",
       "<style scoped>\n",
       "    .dataframe tbody tr th:only-of-type {\n",
       "        vertical-align: middle;\n",
       "    }\n",
       "\n",
       "    .dataframe tbody tr th {\n",
       "        vertical-align: top;\n",
       "    }\n",
       "\n",
       "    .dataframe thead th {\n",
       "        text-align: right;\n",
       "    }\n",
       "</style>\n",
       "<table border=\"1\" class=\"dataframe\">\n",
       "  <thead>\n",
       "    <tr style=\"text-align: right;\">\n",
       "      <th></th>\n",
       "      <th>coefficient</th>\n",
       "      <th>std</th>\n",
       "      <th>importance</th>\n",
       "      <th>perc_change_y</th>\n",
       "    </tr>\n",
       "  </thead>\n",
       "  <tbody>\n",
       "    <tr>\n",
       "      <th>promotion</th>\n",
       "      <td>-506.919502</td>\n",
       "      <td>1.260741</td>\n",
       "      <td>-639.094427</td>\n",
       "      <td>-13.492590</td>\n",
       "    </tr>\n",
       "    <tr>\n",
       "      <th>mrp_USD</th>\n",
       "      <td>1983.172414</td>\n",
       "      <td>0.255254</td>\n",
       "      <td>506.211803</td>\n",
       "      <td>10.687166</td>\n",
       "    </tr>\n",
       "    <tr>\n",
       "      <th>discount_USD</th>\n",
       "      <td>685.924990</td>\n",
       "      <td>0.558910</td>\n",
       "      <td>383.370250</td>\n",
       "      <td>8.093730</td>\n",
       "    </tr>\n",
       "    <tr>\n",
       "      <th>Radio_USD</th>\n",
       "      <td>-205.973219</td>\n",
       "      <td>1.057397</td>\n",
       "      <td>-217.795379</td>\n",
       "      <td>-4.598106</td>\n",
       "    </tr>\n",
       "    <tr>\n",
       "      <th>Sponsorship_USD</th>\n",
       "      <td>140.687151</td>\n",
       "      <td>1.227833</td>\n",
       "      <td>172.740287</td>\n",
       "      <td>3.646901</td>\n",
       "    </tr>\n",
       "    <tr>\n",
       "      <th>Content_Marketing_USD</th>\n",
       "      <td>-118.786214</td>\n",
       "      <td>0.832891</td>\n",
       "      <td>-98.935913</td>\n",
       "      <td>-2.088739</td>\n",
       "    </tr>\n",
       "    <tr>\n",
       "      <th>SEM_USD</th>\n",
       "      <td>42.793816</td>\n",
       "      <td>1.217914</td>\n",
       "      <td>52.119178</td>\n",
       "      <td>1.100342</td>\n",
       "    </tr>\n",
       "    <tr>\n",
       "      <th>Online_Marketing_USD</th>\n",
       "      <td>133.803548</td>\n",
       "      <td>0.331839</td>\n",
       "      <td>44.401201</td>\n",
       "      <td>0.937400</td>\n",
       "    </tr>\n",
       "    <tr>\n",
       "      <th>Affiliates_USD</th>\n",
       "      <td>167.882262</td>\n",
       "      <td>0.215241</td>\n",
       "      <td>36.135220</td>\n",
       "      <td>0.762888</td>\n",
       "    </tr>\n",
       "    <tr>\n",
       "      <th>Other_USD</th>\n",
       "      <td>64.107626</td>\n",
       "      <td>0.381703</td>\n",
       "      <td>24.470096</td>\n",
       "      <td>0.516614</td>\n",
       "    </tr>\n",
       "    <tr>\n",
       "      <th>TV_USD</th>\n",
       "      <td>76.178024</td>\n",
       "      <td>0.300435</td>\n",
       "      <td>22.886558</td>\n",
       "      <td>0.483182</td>\n",
       "    </tr>\n",
       "    <tr>\n",
       "      <th>Digital_USD</th>\n",
       "      <td>53.413354</td>\n",
       "      <td>0.200194</td>\n",
       "      <td>10.693015</td>\n",
       "      <td>0.225751</td>\n",
       "    </tr>\n",
       "  </tbody>\n",
       "</table>\n",
       "</div>"
      ],
      "text/plain": [
       "                       coefficient       std  importance  perc_change_y\n",
       "promotion              -506.919502  1.260741 -639.094427     -13.492590\n",
       "mrp_USD                1983.172414  0.255254  506.211803      10.687166\n",
       "discount_USD            685.924990  0.558910  383.370250       8.093730\n",
       "Radio_USD              -205.973219  1.057397 -217.795379      -4.598106\n",
       "Sponsorship_USD         140.687151  1.227833  172.740287       3.646901\n",
       "Content_Marketing_USD  -118.786214  0.832891  -98.935913      -2.088739\n",
       "SEM_USD                  42.793816  1.217914   52.119178       1.100342\n",
       "Online_Marketing_USD    133.803548  0.331839   44.401201       0.937400\n",
       "Affiliates_USD          167.882262  0.215241   36.135220       0.762888\n",
       "Other_USD                64.107626  0.381703   24.470096       0.516614\n",
       "TV_USD                   76.178024  0.300435   22.886558       0.483182\n",
       "Digital_USD              53.413354  0.200194   10.693015       0.225751"
      ]
     },
     "execution_count": 41,
     "metadata": {},
     "output_type": "execute_result"
    }
   ],
   "source": [
    "#Create coeficients variable\n",
    "coefficients = lr_model_2.coef_\n",
    "\n",
    "#Create feature importances df\n",
    "feature_importances = pd.DataFrame(coefficients, X_test_2.columns, columns = ['coefficient'])\n",
    "\n",
    "#Get standard deviations for each feature\n",
    "stdevs = []\n",
    "for i in range(len(X_test_2.columns)):\n",
    "    stdev = X_test_2_scaled[i].std()\n",
    "    stdevs.append(stdev)\n",
    "    \n",
    "#Get avg. y-value\n",
    "avg_y = y_test_2.mean()\n",
    "\n",
    "#Create std column for each feature\n",
    "feature_importances['std'] = np.array(stdevs).reshape(-1,1)\n",
    "feature_importances['importance'] = feature_importances['std']* feature_importances['coefficient']\n",
    "feature_importances['perc_change_y'] = ((feature_importances['importance'])/avg_y)*100\n",
    "feature_importances.reindex(feature_importances['importance'].abs().sort_values(ascending=False).index)"
   ]
  },
  {
   "cell_type": "code",
   "execution_count": 42,
   "metadata": {},
   "outputs": [
    {
     "data": {
      "image/png": "[encoded data removed]",
      "text/plain": [
       "<Figure size 1080x360 with 1 Axes>"
      ]
     },
     "metadata": {
      "needs_background": "light"
     },
     "output_type": "display_data"
    }
   ],
   "source": [
    "# plot feature importance\n",
    "plt.figure(figsize=(15,5))\n",
    "plt.bar(X_test_2.columns.to_list(),feature_importances['importance'])\n",
    "plt.xticks(rotation=80)\n",
    "plt.title('Model 2: Feature Importances')\n",
    "plt.show()"
   ]
  },
  {
   "cell_type": "markdown",
   "metadata": {},
   "source": [
    "#### Summary of Linear Regression Model 2:\n",
    "Baseline model using the option 2 data with monthly media spend divided randomly across each day.\n",
    "* Also resulted in a high r-squared value with 91.2% of the variance in unit sales being predicted by the model, but it was nearly 5 percentage points lower than the option 1 model.\n",
    "* The mean absolute error was a bit higher than model 1 at 810.9 vs. 586.08. \n",
    "* The root mean squared error was also higher than model 1 at 1138.68 vs 758.66.\n",
    "* The mapping of feature importances though gave very low weights to the media spend variables, with the radio and sponsorship spends being the highest (radio being a negative impact)."
   ]
  },
  {
   "cell_type": "markdown",
   "metadata": {},
   "source": [
    "## F: Next Steps <a class=\"anchor\" id=\"f\"></a>"
   ]
  },
  {
   "cell_type": "markdown",
   "metadata": {},
   "source": [
    "* Additional Models to test:\n",
    "    * Ridge regression: good model choice for high multi-collinearity\n",
    "    * Lasso regression: another good model choice for high multi-collinearity\n",
    "* Identify key drivers of unit sales"
   ]
  },
  {
   "cell_type": "code",
   "execution_count": 43,
   "metadata": {},
   "outputs": [],
   "source": [
    "#Save training and test sets to pickle\n",
    "#Option 1\n",
    "X_train_1.to_pickle('../b_Data/X_train_1.pkl')\n",
    "y_train_1.to_pickle('../b_Data/y_train_1.pkl')\n",
    "X_test_1.to_pickle('../b_Data/X_test_1.pkl')\n",
    "y_test_1.to_pickle('../b_Data/y_test_1.pkl')\n",
    "\n",
    "#Option 2\n",
    "X_train_2.to_pickle('../b_Data/X_train_2.pkl')\n",
    "y_train_2.to_pickle('../b_Data/y_train_2.pkl')\n",
    "X_test_2.to_pickle('../b_Data/X_test_2.pkl')\n",
    "y_test_2.to_pickle('../b_Data/y_test_2.pkl')\n",
    "\n",
    "#Save linear regression models to pickle\n",
    "file_name = '../b_Data/lr_model_1.pkl'\n",
    "open_file = open(file_name, \"wb\")\n",
    "pickle.dump(lr_model_1, open_file)\n",
    "open_file.close()\n",
    "\n",
    "file_name = '../b_Data/lr_model_2.pkl'\n",
    "open_file = open(file_name, \"wb\")\n",
    "pickle.dump(lr_model_2, open_file)\n",
    "open_file.close()\n",
    "\n"
   ]
  }
 ],
 "metadata": {
  "kernelspec": {
   "display_name": "Python 3",
   "language": "python",
   "name": "python3"
  },
  "language_info": {
   "codemirror_mode": {
    "name": "ipython",
    "version": 3
   },
   "file_extension": ".py",
   "mimetype": "text/x-python",
   "name": "python",
   "nbconvert_exporter": "python",
   "pygments_lexer": "ipython3",
   "version": "3.8.3"
  }
 },
 "nbformat": 4,
 "nbformat_minor": 4
}
